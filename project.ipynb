{
 "cells": [
  {
   "cell_type": "code",
   "execution_count": 106,
   "id": "b5192237-0889-4cac-bfbe-890780b6e4dc",
   "metadata": {},
   "outputs": [],
   "source": [
    "import pandas as pd\n",
    "import matplotlib.pyplot as plt\n",
    "import seaborn as sns\n",
    "import warnings\n",
    "warnings.filterwarnings('ignore')\n",
    "from sklearn.linear_model import LogisticRegression\n",
    "from sklearn.model_selection import train_test_split\n",
    "from sklearn.metrics import accuracy_score , confusion_matrix , classification_report\n",
    "\n",
    "train_data  = pd.read_csv('train.csv')\n",
    "test_data = pd.read_csv('test.csv')\n",
    "gender_submission  = pd.read_csv('gender_submission.csv')"
   ]
  },
  {
   "cell_type": "code",
   "execution_count": 129,
   "id": "0582048e-87b9-4f4f-bf89-60e01f709c0d",
   "metadata": {},
   "outputs": [
    {
     "name": "stdout",
     "output_type": "stream",
     "text": [
      "<class 'pandas.core.frame.DataFrame'>\n",
      "RangeIndex: 891 entries, 0 to 890\n",
      "Data columns (total 14 columns):\n",
      " #   Column       Non-Null Count  Dtype  \n",
      "---  ------       --------------  -----  \n",
      " 0   Survived     891 non-null    int64  \n",
      " 1   Pclass       891 non-null    int64  \n",
      " 2   Sex          891 non-null    int64  \n",
      " 3   Age          891 non-null    float64\n",
      " 4   SibSp        891 non-null    int64  \n",
      " 5   Parch        891 non-null    int64  \n",
      " 6   Fare         891 non-null    float64\n",
      " 7   Has_Cabin    891 non-null    int64  \n",
      " 8   Embarked_Q   891 non-null    bool   \n",
      " 9   Embarked_S   891 non-null    bool   \n",
      " 10  Title_Miss   891 non-null    bool   \n",
      " 11  Title_Mr     891 non-null    bool   \n",
      " 12  Title_Mrs    891 non-null    bool   \n",
      " 13  Title_Other  891 non-null    bool   \n",
      "dtypes: bool(6), float64(2), int64(6)\n",
      "memory usage: 61.0 KB\n",
      "<class 'pandas.core.frame.DataFrame'>\n",
      "RangeIndex: 418 entries, 0 to 417\n",
      "Data columns (total 14 columns):\n",
      " #   Column       Non-Null Count  Dtype  \n",
      "---  ------       --------------  -----  \n",
      " 0   Survived     418 non-null    int64  \n",
      " 1   Pclass       418 non-null    int64  \n",
      " 2   Sex          418 non-null    int64  \n",
      " 3   Age          418 non-null    float64\n",
      " 4   SibSp        418 non-null    int64  \n",
      " 5   Parch        418 non-null    int64  \n",
      " 6   Fare         418 non-null    float64\n",
      " 7   Has_Cabin    418 non-null    int64  \n",
      " 8   Embarked_Q   418 non-null    bool   \n",
      " 9   Embarked_S   418 non-null    bool   \n",
      " 10  Title_Miss   418 non-null    bool   \n",
      " 11  Title_Mr     418 non-null    bool   \n",
      " 12  Title_Mrs    418 non-null    bool   \n",
      " 13  Title_Other  418 non-null    bool   \n",
      "dtypes: bool(6), float64(2), int64(6)\n",
      "memory usage: 28.7 KB\n"
     ]
    }
   ],
   "source": [
    "train_data.info()  # For checking the train dataset\n",
    "# or\n",
    "test_data.info()   # For checking the test dataset\n"
   ]
  },
  {
   "cell_type": "code",
   "execution_count": 108,
   "id": "0f44fc85-0a8e-4aa1-8e2d-135cd6d261ed",
   "metadata": {},
   "outputs": [
    {
     "name": "stdout",
     "output_type": "stream",
     "text": [
      "PassengerId      0\n",
      "Survived         0\n",
      "Pclass           0\n",
      "Name             0\n",
      "Sex              0\n",
      "Age            177\n",
      "SibSp            0\n",
      "Parch            0\n",
      "Ticket           0\n",
      "Fare             0\n",
      "Cabin          687\n",
      "Embarked         2\n",
      "dtype: int64\n"
     ]
    }
   ],
   "source": [
    "print(train_data.isnull().sum())"
   ]
  },
  {
   "cell_type": "code",
   "execution_count": 109,
   "id": "a12bd7df-c2e3-40cd-8d67-8e0106b5297a",
   "metadata": {},
   "outputs": [
    {
     "name": "stdout",
     "output_type": "stream",
     "text": [
      "PassengerId      0\n",
      "Pclass           0\n",
      "Name             0\n",
      "Sex              0\n",
      "Age             86\n",
      "SibSp            0\n",
      "Parch            0\n",
      "Ticket           0\n",
      "Fare             1\n",
      "Cabin          327\n",
      "Embarked         0\n",
      "dtype: int64\n"
     ]
    }
   ],
   "source": [
    "print(test_data.isnull().sum())"
   ]
  },
  {
   "cell_type": "code",
   "execution_count": 110,
   "id": "8be1f9b3-1bcd-4582-9a00-017555316d56",
   "metadata": {},
   "outputs": [
    {
     "name": "stdout",
     "output_type": "stream",
     "text": [
      "   PassengerId  Survived  Pclass  \\\n",
      "0            1         0       3   \n",
      "1            2         1       1   \n",
      "2            3         1       3   \n",
      "3            4         1       1   \n",
      "4            5         0       3   \n",
      "\n",
      "                                                Name     Sex   Age  SibSp  \\\n",
      "0                            Braund, Mr. Owen Harris    male  22.0      1   \n",
      "1  Cumings, Mrs. John Bradley (Florence Briggs Th...  female  38.0      1   \n",
      "2                             Heikkinen, Miss. Laina  female  26.0      0   \n",
      "3       Futrelle, Mrs. Jacques Heath (Lily May Peel)  female  35.0      1   \n",
      "4                           Allen, Mr. William Henry    male  35.0      0   \n",
      "\n",
      "   Parch            Ticket     Fare Cabin Embarked  \n",
      "0      0         A/5 21171   7.2500   NaN        S  \n",
      "1      0          PC 17599  71.2833   C85        C  \n",
      "2      0  STON/O2. 3101282   7.9250   NaN        S  \n",
      "3      0            113803  53.1000  C123        S  \n",
      "4      0            373450   8.0500   NaN        S  \n"
     ]
    }
   ],
   "source": [
    "print(train_data.head())"
   ]
  },
  {
   "cell_type": "code",
   "execution_count": 111,
   "id": "b57d3a0d-3489-4b3c-b16b-127d5d24d4e8",
   "metadata": {},
   "outputs": [
    {
     "name": "stdout",
     "output_type": "stream",
     "text": [
      "   PassengerId  Survived  Pclass  \\\n",
      "0            1         0       3   \n",
      "1            2         1       1   \n",
      "2            3         1       3   \n",
      "3            4         1       1   \n",
      "4            5         0       3   \n",
      "\n",
      "                                                Name     Sex   Age  SibSp  \\\n",
      "0                            Braund, Mr. Owen Harris    male  22.0      1   \n",
      "1  Cumings, Mrs. John Bradley (Florence Briggs Th...  female  38.0      1   \n",
      "2                             Heikkinen, Miss. Laina  female  26.0      0   \n",
      "3       Futrelle, Mrs. Jacques Heath (Lily May Peel)  female  35.0      1   \n",
      "4                           Allen, Mr. William Henry    male  35.0      0   \n",
      "\n",
      "   Parch            Ticket     Fare Cabin Embarked  \n",
      "0      0         A/5 21171   7.2500   NaN        S  \n",
      "1      0          PC 17599  71.2833   C85        C  \n",
      "2      0  STON/O2. 3101282   7.9250   NaN        S  \n",
      "3      0            113803  53.1000  C123        S  \n",
      "4      0            373450   8.0500   NaN        S  \n",
      "<class 'pandas.core.frame.DataFrame'>\n",
      "RangeIndex: 891 entries, 0 to 890\n",
      "Data columns (total 12 columns):\n",
      " #   Column       Non-Null Count  Dtype  \n",
      "---  ------       --------------  -----  \n",
      " 0   PassengerId  891 non-null    int64  \n",
      " 1   Survived     891 non-null    int64  \n",
      " 2   Pclass       891 non-null    int64  \n",
      " 3   Name         891 non-null    object \n",
      " 4   Sex          891 non-null    object \n",
      " 5   Age          714 non-null    float64\n",
      " 6   SibSp        891 non-null    int64  \n",
      " 7   Parch        891 non-null    int64  \n",
      " 8   Ticket       891 non-null    object \n",
      " 9   Fare         891 non-null    float64\n",
      " 10  Cabin        204 non-null    object \n",
      " 11  Embarked     889 non-null    object \n",
      "dtypes: float64(2), int64(5), object(5)\n",
      "memory usage: 83.7+ KB\n",
      "None\n"
     ]
    }
   ],
   "source": [
    "print(train_data.head())\n",
    "print(train_data.info())"
   ]
  },
  {
   "cell_type": "code",
   "execution_count": 112,
   "id": "76be8d89-6cb1-4343-b83b-d2abcd90eebf",
   "metadata": {},
   "outputs": [
    {
     "name": "stdout",
     "output_type": "stream",
     "text": [
      "       PassengerId    Survived      Pclass         Age       SibSp  \\\n",
      "count   891.000000  891.000000  891.000000  714.000000  891.000000   \n",
      "mean    446.000000    0.383838    2.308642   29.699118    0.523008   \n",
      "std     257.353842    0.486592    0.836071   14.526497    1.102743   \n",
      "min       1.000000    0.000000    1.000000    0.420000    0.000000   \n",
      "25%     223.500000    0.000000    2.000000   20.125000    0.000000   \n",
      "50%     446.000000    0.000000    3.000000   28.000000    0.000000   \n",
      "75%     668.500000    1.000000    3.000000   38.000000    1.000000   \n",
      "max     891.000000    1.000000    3.000000   80.000000    8.000000   \n",
      "\n",
      "            Parch        Fare  \n",
      "count  891.000000  891.000000  \n",
      "mean     0.381594   32.204208  \n",
      "std      0.806057   49.693429  \n",
      "min      0.000000    0.000000  \n",
      "25%      0.000000    7.910400  \n",
      "50%      0.000000   14.454200  \n",
      "75%      0.000000   31.000000  \n",
      "max      6.000000  512.329200  \n"
     ]
    }
   ],
   "source": [
    "print(train_data.describe())"
   ]
  },
  {
   "cell_type": "code",
   "execution_count": 113,
   "id": "be48f4f8-8108-485a-8422-e0cd31643768",
   "metadata": {},
   "outputs": [
    {
     "data": {
      "image/png": "[encoded data removed]",
      "text/plain": [
       "<Figure size 640x480 with 1 Axes>"
      ]
     },
     "metadata": {},
     "output_type": "display_data"
    }
   ],
   "source": [
    "sns.histplot(train_data['Age'].dropna(),kde = True , bins=30 ,color= 'skyblue')\n",
    "plt.title('Age Distribution in Training Data')\n",
    "plt.show()"
   ]
  },
  {
   "cell_type": "code",
   "execution_count": 114,
   "id": "63e16dc5-22d0-44fd-ad46-ebbd727cd86f",
   "metadata": {},
   "outputs": [
    {
     "data": {
      "image/png": "[encoded data removed]",
      "text/plain": [
       "<Figure size 640x480 with 1 Axes>"
      ]
     },
     "metadata": {},
     "output_type": "display_data"
    }
   ],
   "source": [
    "sns.histplot(train_data['Fare'],kde = True , bins = 30,color = 'Lightgreen')\n",
    "plt.title('Fare Distribution in Training Data')\n",
    "plt.show()"
   ]
  },
  {
   "cell_type": "code",
   "execution_count": 115,
   "id": "f1085737-449e-42dd-9074-fc06bde00fcd",
   "metadata": {},
   "outputs": [
    {
     "data": {
      "image/png": "[encoded data removed]",
      "text/plain": [
       "<Figure size 640x480 with 1 Axes>"
      ]
     },
     "metadata": {},
     "output_type": "display_data"
    }
   ],
   "source": [
    "sns.barplot(x = 'Sex', y = 'Survived', data = train_data, palette = 'muted')\n",
    "plt.title('Survival Rate by Sex')\n",
    "plt.show()"
   ]
  },
  {
   "cell_type": "code",
   "execution_count": 116,
   "id": "76422f93-1c16-40c9-95ee-c79b93569d20",
   "metadata": {},
   "outputs": [
    {
     "data": {
      "image/png": "[encoded data removed]",
      "text/plain": [
       "<Figure size 640x480 with 1 Axes>"
      ]
     },
     "metadata": {},
     "output_type": "display_data"
    }
   ],
   "source": [
    "sns.barplot(x = 'Pclass',y = 'Survived',data = train_data,palette = 'muted')\n",
    "plt.title('Survival Rate by Pclass')\n",
    "plt.show()"
   ]
  },
  {
   "cell_type": "code",
   "execution_count": 117,
   "id": "c27c93c4-aed4-4114-ac45-b456f91ece0f",
   "metadata": {},
   "outputs": [],
   "source": [
    "train_data['Age'].fillna(train_data['Age'].median(), inplace = True)\n",
    "test_data['Age'].fillna(test_data['Age'].median(), inplace = True)"
   ]
  },
  {
   "cell_type": "code",
   "execution_count": 118,
   "id": "67be8c1a-58a9-4e8c-a350-f37dc7116d5b",
   "metadata": {},
   "outputs": [],
   "source": [
    "train_data['Embarked'].fillna(train_data['Embarked'].mode()[0], inplace = True)"
   ]
  },
  {
   "cell_type": "code",
   "execution_count": 119,
   "id": "3ebe9e3c-d892-4181-aaed-f00de4f950f8",
   "metadata": {},
   "outputs": [],
   "source": [
    "test_data['Fare'].fillna(test_data['Fare'].median(),inplace = True)"
   ]
  },
  {
   "cell_type": "code",
   "execution_count": 120,
   "id": "8a2f471e-f12e-4d0c-86f7-f38013b7161c",
   "metadata": {},
   "outputs": [],
   "source": [
    "if 'Cabin' in train_data.columns:\n",
    "    train_data.drop('Cabin', axis=1, inplace=True)\n",
    "\n",
    "if 'Cabin' in test_data.columns:\n",
    "    test_data.drop('Cabin', axis=1, inplace=True)\n"
   ]
  },
  {
   "cell_type": "code",
   "execution_count": 121,
   "id": "d2c83de0-1a21-4904-92ac-e262f14922ee",
   "metadata": {},
   "outputs": [
    {
     "name": "stdout",
     "output_type": "stream",
     "text": [
      "No 'Cabin' column found in the training dataset.\n",
      "No 'Cabin' column found in the test dataset.\n"
     ]
    }
   ],
   "source": [
    "# Check if 'Cabin' exists before creating 'Has_Cabin'\n",
    "if 'Cabin' in train_data.columns:\n",
    "    train_data['Has_Cabin'] = train_data['Cabin'].notnull().astype(int)\n",
    "else:\n",
    "    print(\"No 'Cabin' column found in the training dataset.\")\n",
    "\n",
    "if 'Cabin' in test_data.columns:\n",
    "    test_data['Has_Cabin'] = test_data['Cabin'].notnull().astype(int)\n",
    "else:\n",
    "    print(\"No 'Cabin' column found in the test dataset.\")\n"
   ]
  },
  {
   "cell_type": "code",
   "execution_count": 122,
   "id": "fad55f18-d4d6-45ec-83fd-ddd74b364fee",
   "metadata": {},
   "outputs": [],
   "source": [
    "train_data['Sex'] = train_data['Sex'].map({'male': 0, 'female': 1})\n",
    "test_data['Sex'] = test_data['Sex'].map({'male': 0, 'female': 1})\n"
   ]
  },
  {
   "cell_type": "code",
   "execution_count": 123,
   "id": "79c95e7f-3289-49a0-bd2a-b08aa9c3d442",
   "metadata": {},
   "outputs": [],
   "source": [
    "train_data = pd.get_dummies(train_data, columns = ['Embarked'],drop_first=True)\n",
    "test_data = pd.get_dummies(test_data,columns = ['Embarked'],drop_first = True)"
   ]
  },
  {
   "cell_type": "code",
   "execution_count": null,
   "id": "db4aebfb-0fb5-44eb-bea7-9aa9284c568d",
   "metadata": {},
   "outputs": [],
   "source": []
  },
  {
   "cell_type": "code",
   "execution_count": 124,
   "id": "e7f0c446-da03-4625-9933-9894aa6d1ce1",
   "metadata": {},
   "outputs": [],
   "source": [
    "train_data['FamilySize'] = train_data['SibSp'] + train_data['Parch'] + 1\n",
    "test_data['FamilySize'] = test_data['SibSp'] + test_data['Parch'] + 1"
   ]
  },
  {
   "cell_type": "code",
   "execution_count": 125,
   "id": "2b413995-2a41-4e76-aeae-37ad1e8fd8e1",
   "metadata": {},
   "outputs": [],
   "source": [
    "train_data['Title'] = train_data['Name'].str.extract('([A-Za-z]+)\\.',expand = False)\n",
    "test_data['Title'] = test_data['Name'].str.extract('([A-Za-z]+)\\.',expand = False)"
   ]
  },
  {
   "cell_type": "code",
   "execution_count": 126,
   "id": "30a9b4b7-dd1e-41c2-8502-aa835721b670",
   "metadata": {},
   "outputs": [],
   "source": [
    "# Assuming you've already processed the 'Title' feature in the training data\n",
    "\n",
    "# If you created a Title feature using Name, do the same for the test data\n",
    "test_data['Title'] = test_data['Name'].apply(lambda name: name.split(',')[1].split('.')[0].strip())\n",
    "\n",
    "# Apply the same title mapping to the test data\n",
    "title_mapping = {\n",
    "    \"Mr\": 1, \"Miss\": 2, \"Mrs\": 3, \"Master\": 4, \"Dr\": 5, \"Rev\": 6, \"Mlle\": 7, \"Major\": 8, \n",
    "    \"Col\": 9, \"Mme\": 10, \"Don\": 11, \"Lady\": 12, \"Countess\": 13, \"Jonkheer\": 14, \"Capt\": 15, \"Sir\": 16, \"Ms\": 17\n",
    "}\n",
    "test_data['Title'] = test_data['Title'].map(title_mapping)\n",
    "\n",
    "# Now encode this feature as done in the training data\n",
    "test_data = pd.get_dummies(test_data, columns=['Title'], drop_first=True)\n"
   ]
  },
  {
   "cell_type": "code",
   "execution_count": 127,
   "id": "18c68bd1-8535-4dd2-b2b1-7e87f5130d95",
   "metadata": {},
   "outputs": [],
   "source": [
    "# Add missing columns to the test set if needed (e.g., Title_Mlle, Title_Mme)\n",
    "for column in X_train.columns:\n",
    "    if column not in X_test.columns:\n",
    "        X_test[column] = 0\n",
    "\n",
    "# Ensure the column order is the same as in training\n",
    "X_test = X_test[X_train.columns]\n"
   ]
  },
  {
   "cell_type": "code",
   "execution_count": 128,
   "id": "b12216f8-7ab4-4f67-9d5f-08db037ea71d",
   "metadata": {},
   "outputs": [
    {
     "name": "stdout",
     "output_type": "stream",
     "text": [
      "Accuracy: 0.8100558659217877\n",
      "Confusion Matrix:\n",
      " [[89 16]\n",
      " [18 56]]\n",
      "Classification Report:\n",
      "               precision    recall  f1-score   support\n",
      "\n",
      "           0       0.83      0.85      0.84       105\n",
      "           1       0.78      0.76      0.77        74\n",
      "\n",
      "    accuracy                           0.81       179\n",
      "   macro avg       0.80      0.80      0.80       179\n",
      "weighted avg       0.81      0.81      0.81       179\n",
      "\n"
     ]
    }
   ],
   "source": [
    "train_data = pd.read_csv('train.csv')\n",
    "test_data = pd.read_csv('test.csv')\n",
    "\n",
    "# 3. Feature Engineering\n",
    "\n",
    "# Create a new feature 'Has_Cabin'\n",
    "if 'Cabin' in train_data.columns:\n",
    "    train_data['Has_Cabin'] = train_data['Cabin'].notnull().astype(int)\n",
    "else:\n",
    "    print(\"No 'Cabin' column found in the training dataset.\")\n",
    "\n",
    "if 'Cabin' in test_data.columns:\n",
    "    test_data['Has_Cabin'] = test_data['Cabin'].notnull().astype(int)\n",
    "else:\n",
    "    print(\"No 'Cabin' column found in the test dataset.\")\n",
    "\n",
    "# Fill missing 'Age' and 'Embarked' values\n",
    "train_data['Age'].fillna(train_data['Age'].median(), inplace=True)\n",
    "test_data['Age'].fillna(test_data['Age'].median(), inplace=True)\n",
    "\n",
    "if 'Embarked' in train_data.columns:\n",
    "    train_data['Embarked'].fillna(train_data['Embarked'].mode()[0], inplace=True)\n",
    "else:\n",
    "    print(\"'Embarked' column not found in the training dataset.\")\n",
    "\n",
    "if 'Embarked' in test_data.columns:\n",
    "    test_data['Embarked'].fillna(test_data['Embarked'].mode()[0], inplace=True)\n",
    "else:\n",
    "    print(\"'Embarked' column not found in the test dataset.\")\n",
    "\n",
    "if 'Fare' in test_data.columns:\n",
    "    test_data['Fare'].fillna(test_data['Fare'].median(), inplace=True)\n",
    "else:\n",
    "    print(\"'Fare' column not found in the test dataset.\")\n",
    "\n",
    "# Convert 'Sex' to numerical values\n",
    "train_data['Sex'] = train_data['Sex'].map({'male': 0, 'female': 1})\n",
    "test_data['Sex'] = test_data['Sex'].map({'male': 0, 'female': 1})\n",
    "\n",
    "# One-hot encode 'Embarked' column\n",
    "if 'Embarked' in train_data.columns:\n",
    "    train_data = pd.get_dummies(train_data, columns=['Embarked'], drop_first=True)\n",
    "\n",
    "if 'Embarked' in test_data.columns:\n",
    "    test_data = pd.get_dummies(test_data, columns=['Embarked'], drop_first=True)\n",
    "\n",
    "# Feature engineering: Extract Title from Name\n",
    "if 'Name' in train_data.columns and 'Name' in test_data.columns:\n",
    "    # Extract Title\n",
    "    train_data['Title'] = train_data['Name'].str.extract(' ([A-Za-z]+)\\.', expand=False)\n",
    "    test_data['Title'] = test_data['Name'].str.extract(' ([A-Za-z]+)\\.', expand=False)\n",
    "\n",
    "    # Replace rare titles with 'Other'\n",
    "    rare_titles = ['Lady', 'Countess', 'Capt', 'Col', 'Don', 'Dr', 'Major', 'Rev', 'Sir', 'Jonkheer', 'Dona']\n",
    "    train_data['Title'] = train_data['Title'].replace(rare_titles, 'Other')\n",
    "    test_data['Title'] = test_data['Title'].replace(rare_titles, 'Other')\n",
    "\n",
    "    train_data['Title'] = train_data['Title'].replace(['Mlle', 'Ms'], 'Miss')\n",
    "    train_data['Title'] = train_data['Title'].replace('Mme', 'Mrs')\n",
    "\n",
    "    test_data['Title'] = test_data['Title'].replace(['Mlle', 'Ms'], 'Miss')\n",
    "    test_data['Title'] = test_data['Title'].replace('Mme', 'Mrs')\n",
    "\n",
    "    # One-hot encoding for 'Title'\n",
    "    train_data = pd.get_dummies(train_data, columns=['Title'], drop_first=True)\n",
    "    test_data = pd.get_dummies(test_data, columns=['Title'], drop_first=True)\n",
    "else:\n",
    "    print(\"'Name' column not found in the dataset. Skipping title extraction.\")\n",
    "\n",
    "# Drop unnecessary columns\n",
    "columns_to_drop = ['Cabin', 'Ticket', 'PassengerId', 'Name']  # Adjust based on columns available\n",
    "train_data.drop([col for col in columns_to_drop if col in train_data.columns], axis=1, inplace=True)\n",
    "test_data.drop([col for col in columns_to_drop if col in test_data.columns], axis=1, inplace=True)\n",
    "\n",
    "# Align test and train columns (test data may have fewer columns due to missing values)\n",
    "missing_cols = set(train_data.columns) - set(test_data.columns)\n",
    "for col in missing_cols:\n",
    "    test_data[col] = 0\n",
    "test_data = test_data[train_data.columns]\n",
    "\n",
    "# 4. Split training data into train and validation sets\n",
    "X = train_data.drop('Survived', axis=1)\n",
    "y = train_data['Survived']\n",
    "\n",
    "X_train, X_val, y_train, y_val = train_test_split(X, y, test_size=0.2, random_state=42)\n",
    "\n",
    "# 5. Model Training (Logistic Regression)\n",
    "logreg = LogisticRegression(max_iter=1000)\n",
    "logreg.fit(X_train, y_train)\n",
    "\n",
    "# 6. Model Evaluation\n",
    "y_pred = logreg.predict(X_val)\n",
    "\n",
    "print(\"Accuracy:\", accuracy_score(y_val, y_pred))\n",
    "print(\"Confusion Matrix:\\n\", confusion_matrix(y_val, y_pred))\n",
    "print(\"Classification Report:\\n\", classification_report(y_val, y_pred))"
   ]
  },
  {
   "cell_type": "code",
   "execution_count": null,
   "id": "d783174c-86d1-4311-8f69-c28aa74489a2",
   "metadata": {},
   "outputs": [],
   "source": []
  },
  {
   "cell_type": "code",
   "execution_count": null,
   "id": "ef455295-5073-4871-8e80-037a73f93d35",
   "metadata": {},
   "outputs": [],
   "source": []
  }
 ],
 "metadata": {
  "kernelspec": {
   "display_name": "Python 3 (ipykernel)",
   "language": "python",
   "name": "python3"
  },
  "language_info": {
   "codemirror_mode": {
    "name": "ipython",
    "version": 3
   },
   "file_extension": ".py",
   "mimetype": "text/x-python",
   "name": "python",
   "nbconvert_exporter": "python",
   "pygments_lexer": "ipython3",
   "version": "3.12.4"
  }
 },
 "nbformat": 4,
 "nbformat_minor": 5
}
